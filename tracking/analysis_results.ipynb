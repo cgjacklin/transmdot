{
 "cells": [
  {
   "cell_type": "code",
   "execution_count": 1,
   "metadata": {
    "collapsed": false,
    "pycharm": {
     "name": "#%%\n"
    }
   },
   "outputs": [
    {
     "name": "stderr",
     "output_type": "stream",
     "text": [
      "/home/chenguanlin/anaconda3/envs/ostrack/lib/python3.8/site-packages/tqdm/auto.py:22: TqdmWarning: IProgress not found. Please update jupyter and ipywidgets. See https://ipywidgets.readthedocs.io/en/stable/user_install.html\n",
      "  from .autonotebook import tqdm as notebook_tqdm\n"
     ]
    }
   ],
   "source": [
    "%load_ext autoreload\n",
    "%autoreload 2\n",
    "%matplotlib inline\n",
    "import _init_paths\n",
    "import os\n",
    "import sys\n",
    "import matplotlib.pyplot as plt\n",
    "plt.rcParams['figure.figsize'] = [14, 8]\n",
    "\n",
    "sys.path.append('/home/yebotao/OSTrack')\n",
    "from lib.test.analysis.plot_results import plot_results, print_results, print_per_sequence_results, print_results_per_video\n",
    "from lib.test.evaluation import get_dataset, trackerlist"
   ]
  },
  {
   "cell_type": "code",
   "execution_count": 2,
   "metadata": {
    "collapsed": false,
    "pycharm": {
     "name": "#%%\n"
    }
   },
   "outputs": [
    {
     "ename": "OSError",
     "evalue": "/jack/MDOT/Two-MDOT/train/two//airplane/airplane-1/groundtruth.txt not found.",
     "output_type": "error",
     "traceback": [
      "\u001b[0;31m---------------------------------------------------------------------------\u001b[0m",
      "\u001b[0;31mOSError\u001b[0m                                   Traceback (most recent call last)",
      "Cell \u001b[0;32mIn[2], line 9\u001b[0m\n\u001b[1;32m      4\u001b[0m trackers\u001b[39m.\u001b[39mextend(trackerlist(name\u001b[39m=\u001b[39m\u001b[39m'\u001b[39m\u001b[39mostrack\u001b[39m\u001b[39m'\u001b[39m, parameter_name\u001b[39m=\u001b[39m\u001b[39m'\u001b[39m\u001b[39mvitb_256_mae_ce_32x4_ep300\u001b[39m\u001b[39m'\u001b[39m, dataset_name\u001b[39m=\u001b[39mdataset_name,\n\u001b[1;32m      5\u001b[0m                             run_ids\u001b[39m=\u001b[39m\u001b[39mNone\u001b[39;00m, display_name\u001b[39m=\u001b[39m\u001b[39m'\u001b[39m\u001b[39mOSTrack256\u001b[39m\u001b[39m'\u001b[39m))\n\u001b[1;32m      6\u001b[0m trackers\u001b[39m.\u001b[39mextend(trackerlist(name\u001b[39m=\u001b[39m\u001b[39m'\u001b[39m\u001b[39mostrack\u001b[39m\u001b[39m'\u001b[39m, parameter_name\u001b[39m=\u001b[39m\u001b[39m'\u001b[39m\u001b[39mvitb_384_mae_ce_32x4_ep300\u001b[39m\u001b[39m'\u001b[39m, dataset_name\u001b[39m=\u001b[39mdataset_name,\n\u001b[1;32m      7\u001b[0m                             run_ids\u001b[39m=\u001b[39m\u001b[39mNone\u001b[39;00m, display_name\u001b[39m=\u001b[39m\u001b[39m'\u001b[39m\u001b[39mOSTrack384\u001b[39m\u001b[39m'\u001b[39m))\n\u001b[0;32m----> 9\u001b[0m dataset \u001b[39m=\u001b[39m get_dataset(dataset_name)\n\u001b[1;32m     10\u001b[0m \u001b[39m# plot_results(trackers, dataset, dataset_name, merge_results=True, plot_types=('success', 'prec'),\u001b[39;00m\n\u001b[1;32m     11\u001b[0m \u001b[39m#              skip_missing_seq=False, force_evaluation=True, plot_bin_gap=0.05, exclude_invalid_frames=False)\u001b[39;00m\n\u001b[1;32m     12\u001b[0m print_results(trackers, dataset, dataset_name, merge_results\u001b[39m=\u001b[39m\u001b[39mTrue\u001b[39;00m, plot_types\u001b[39m=\u001b[39m(\u001b[39m'\u001b[39m\u001b[39msuccess\u001b[39m\u001b[39m'\u001b[39m, \u001b[39m'\u001b[39m\u001b[39mprec\u001b[39m\u001b[39m'\u001b[39m, \u001b[39m'\u001b[39m\u001b[39mnorm_prec\u001b[39m\u001b[39m'\u001b[39m))\n",
      "File \u001b[0;32m/jack/OSTrack-main/tracking/../lib/test/evaluation/datasets.py:49\u001b[0m, in \u001b[0;36mget_dataset\u001b[0;34m(*args)\u001b[0m\n\u001b[1;32m     47\u001b[0m dset \u001b[39m=\u001b[39m SequenceList()\n\u001b[1;32m     48\u001b[0m \u001b[39mfor\u001b[39;00m name \u001b[39min\u001b[39;00m args:\n\u001b[0;32m---> 49\u001b[0m     dset\u001b[39m.\u001b[39mextend(load_dataset(name))\n\u001b[1;32m     50\u001b[0m \u001b[39mreturn\u001b[39;00m dset\n",
      "File \u001b[0;32m/jack/OSTrack-main/tracking/../lib/test/evaluation/datasets.py:42\u001b[0m, in \u001b[0;36mload_dataset\u001b[0;34m(name)\u001b[0m\n\u001b[1;32m     40\u001b[0m m \u001b[39m=\u001b[39m importlib\u001b[39m.\u001b[39mimport_module(dset_info\u001b[39m.\u001b[39mmodule)\n\u001b[1;32m     41\u001b[0m dataset \u001b[39m=\u001b[39m \u001b[39mgetattr\u001b[39m(m, dset_info\u001b[39m.\u001b[39mclass_name)(\u001b[39m*\u001b[39m\u001b[39m*\u001b[39mdset_info\u001b[39m.\u001b[39mkwargs)  \u001b[39m# Call the constructor\u001b[39;00m\n\u001b[0;32m---> 42\u001b[0m \u001b[39mreturn\u001b[39;00m dataset\u001b[39m.\u001b[39;49mget_sequence_list()\n",
      "File \u001b[0;32m/jack/OSTrack-main/tracking/../lib/test/evaluation/lasotdataset.py:32\u001b[0m, in \u001b[0;36mLaSOTDataset.get_sequence_list\u001b[0;34m(self)\u001b[0m\n\u001b[1;32m     31\u001b[0m \u001b[39mdef\u001b[39;00m \u001b[39mget_sequence_list\u001b[39m(\u001b[39mself\u001b[39m):\n\u001b[0;32m---> 32\u001b[0m     \u001b[39mreturn\u001b[39;00m SequenceList([\u001b[39mself\u001b[39m\u001b[39m.\u001b[39m_construct_sequence(s) \u001b[39mfor\u001b[39;00m s \u001b[39min\u001b[39;00m \u001b[39mself\u001b[39m\u001b[39m.\u001b[39msequence_list])\n",
      "File \u001b[0;32m/jack/OSTrack-main/tracking/../lib/test/evaluation/lasotdataset.py:32\u001b[0m, in \u001b[0;36m<listcomp>\u001b[0;34m(.0)\u001b[0m\n\u001b[1;32m     31\u001b[0m \u001b[39mdef\u001b[39;00m \u001b[39mget_sequence_list\u001b[39m(\u001b[39mself\u001b[39m):\n\u001b[0;32m---> 32\u001b[0m     \u001b[39mreturn\u001b[39;00m SequenceList([\u001b[39mself\u001b[39;49m\u001b[39m.\u001b[39;49m_construct_sequence(s) \u001b[39mfor\u001b[39;00m s \u001b[39min\u001b[39;00m \u001b[39mself\u001b[39m\u001b[39m.\u001b[39msequence_list])\n",
      "File \u001b[0;32m/jack/OSTrack-main/tracking/../lib/test/evaluation/lasotdataset.py:38\u001b[0m, in \u001b[0;36mLaSOTDataset._construct_sequence\u001b[0;34m(self, sequence_name)\u001b[0m\n\u001b[1;32m     35\u001b[0m class_name \u001b[39m=\u001b[39m sequence_name\u001b[39m.\u001b[39msplit(\u001b[39m'\u001b[39m\u001b[39m-\u001b[39m\u001b[39m'\u001b[39m)[\u001b[39m0\u001b[39m]\n\u001b[1;32m     36\u001b[0m anno_path \u001b[39m=\u001b[39m \u001b[39m'\u001b[39m\u001b[39m{}\u001b[39;00m\u001b[39m/\u001b[39m\u001b[39m{}\u001b[39;00m\u001b[39m/\u001b[39m\u001b[39m{}\u001b[39;00m\u001b[39m/groundtruth.txt\u001b[39m\u001b[39m'\u001b[39m\u001b[39m.\u001b[39mformat(\u001b[39mself\u001b[39m\u001b[39m.\u001b[39mbase_path, class_name, sequence_name)\n\u001b[0;32m---> 38\u001b[0m ground_truth_rect \u001b[39m=\u001b[39m load_text(\u001b[39mstr\u001b[39;49m(anno_path), delimiter\u001b[39m=\u001b[39;49m\u001b[39m'\u001b[39;49m\u001b[39m,\u001b[39;49m\u001b[39m'\u001b[39;49m, dtype\u001b[39m=\u001b[39;49mnp\u001b[39m.\u001b[39;49mfloat64)\n\u001b[1;32m     40\u001b[0m occlusion_label_path \u001b[39m=\u001b[39m \u001b[39m'\u001b[39m\u001b[39m{}\u001b[39;00m\u001b[39m/\u001b[39m\u001b[39m{}\u001b[39;00m\u001b[39m/\u001b[39m\u001b[39m{}\u001b[39;00m\u001b[39m/full_occlusion.txt\u001b[39m\u001b[39m'\u001b[39m\u001b[39m.\u001b[39mformat(\u001b[39mself\u001b[39m\u001b[39m.\u001b[39mbase_path, class_name, sequence_name)\n\u001b[1;32m     42\u001b[0m \u001b[39m# NOTE: pandas backed seems super super slow for loading occlusion/oov masks\u001b[39;00m\n",
      "File \u001b[0;32m/jack/OSTrack-main/tracking/../lib/test/utils/load_text.py:39\u001b[0m, in \u001b[0;36mload_text\u001b[0;34m(path, delimiter, dtype, backend)\u001b[0m\n\u001b[1;32m     37\u001b[0m \u001b[39mdef\u001b[39;00m \u001b[39mload_text\u001b[39m(path, delimiter\u001b[39m=\u001b[39m\u001b[39m'\u001b[39m\u001b[39m \u001b[39m\u001b[39m'\u001b[39m, dtype\u001b[39m=\u001b[39mnp\u001b[39m.\u001b[39mfloat32, backend\u001b[39m=\u001b[39m\u001b[39m'\u001b[39m\u001b[39mnumpy\u001b[39m\u001b[39m'\u001b[39m):\n\u001b[1;32m     38\u001b[0m     \u001b[39mif\u001b[39;00m backend \u001b[39m==\u001b[39m \u001b[39m'\u001b[39m\u001b[39mnumpy\u001b[39m\u001b[39m'\u001b[39m:\n\u001b[0;32m---> 39\u001b[0m         \u001b[39mreturn\u001b[39;00m load_text_numpy(path, delimiter, dtype)\n\u001b[1;32m     40\u001b[0m     \u001b[39melif\u001b[39;00m backend \u001b[39m==\u001b[39m \u001b[39m'\u001b[39m\u001b[39mpandas\u001b[39m\u001b[39m'\u001b[39m:\n\u001b[1;32m     41\u001b[0m         \u001b[39mreturn\u001b[39;00m load_text_pandas(path, delimiter, dtype)\n",
      "File \u001b[0;32m/jack/OSTrack-main/tracking/../lib/test/utils/load_text.py:16\u001b[0m, in \u001b[0;36mload_text_numpy\u001b[0;34m(path, delimiter, dtype)\u001b[0m\n\u001b[1;32m     14\u001b[0m     \u001b[39mraise\u001b[39;00m \u001b[39mException\u001b[39;00m(\u001b[39m'\u001b[39m\u001b[39mCould not read file \u001b[39m\u001b[39m{}\u001b[39;00m\u001b[39m'\u001b[39m\u001b[39m.\u001b[39mformat(path))\n\u001b[1;32m     15\u001b[0m \u001b[39melse\u001b[39;00m:\n\u001b[0;32m---> 16\u001b[0m     ground_truth_rect \u001b[39m=\u001b[39m np\u001b[39m.\u001b[39;49mloadtxt(path, delimiter\u001b[39m=\u001b[39;49mdelimiter, dtype\u001b[39m=\u001b[39;49mdtype)\n\u001b[1;32m     17\u001b[0m     \u001b[39mreturn\u001b[39;00m ground_truth_rect\n",
      "File \u001b[0;32m~/anaconda3/envs/ostrack/lib/python3.8/site-packages/numpy/lib/npyio.py:1065\u001b[0m, in \u001b[0;36mloadtxt\u001b[0;34m(fname, dtype, comments, delimiter, converters, skiprows, usecols, unpack, ndmin, encoding, max_rows, like)\u001b[0m\n\u001b[1;32m   1063\u001b[0m     fname \u001b[39m=\u001b[39m os_fspath(fname)\n\u001b[1;32m   1064\u001b[0m \u001b[39mif\u001b[39;00m _is_string_like(fname):\n\u001b[0;32m-> 1065\u001b[0m     fh \u001b[39m=\u001b[39m np\u001b[39m.\u001b[39;49mlib\u001b[39m.\u001b[39;49m_datasource\u001b[39m.\u001b[39;49mopen(fname, \u001b[39m'\u001b[39;49m\u001b[39mrt\u001b[39;49m\u001b[39m'\u001b[39;49m, encoding\u001b[39m=\u001b[39;49mencoding)\n\u001b[1;32m   1066\u001b[0m     fencoding \u001b[39m=\u001b[39m \u001b[39mgetattr\u001b[39m(fh, \u001b[39m'\u001b[39m\u001b[39mencoding\u001b[39m\u001b[39m'\u001b[39m, \u001b[39m'\u001b[39m\u001b[39mlatin1\u001b[39m\u001b[39m'\u001b[39m)\n\u001b[1;32m   1067\u001b[0m     fh \u001b[39m=\u001b[39m \u001b[39miter\u001b[39m(fh)\n",
      "File \u001b[0;32m~/anaconda3/envs/ostrack/lib/python3.8/site-packages/numpy/lib/_datasource.py:194\u001b[0m, in \u001b[0;36mopen\u001b[0;34m(path, mode, destpath, encoding, newline)\u001b[0m\n\u001b[1;32m    157\u001b[0m \u001b[39m\"\"\"\u001b[39;00m\n\u001b[1;32m    158\u001b[0m \u001b[39mOpen `path` with `mode` and return the file object.\u001b[39;00m\n\u001b[1;32m    159\u001b[0m \n\u001b[0;32m   (...)\u001b[0m\n\u001b[1;32m    190\u001b[0m \n\u001b[1;32m    191\u001b[0m \u001b[39m\"\"\"\u001b[39;00m\n\u001b[1;32m    193\u001b[0m ds \u001b[39m=\u001b[39m DataSource(destpath)\n\u001b[0;32m--> 194\u001b[0m \u001b[39mreturn\u001b[39;00m ds\u001b[39m.\u001b[39;49mopen(path, mode, encoding\u001b[39m=\u001b[39;49mencoding, newline\u001b[39m=\u001b[39;49mnewline)\n",
      "File \u001b[0;32m~/anaconda3/envs/ostrack/lib/python3.8/site-packages/numpy/lib/_datasource.py:531\u001b[0m, in \u001b[0;36mDataSource.open\u001b[0;34m(self, path, mode, encoding, newline)\u001b[0m\n\u001b[1;32m    528\u001b[0m     \u001b[39mreturn\u001b[39;00m _file_openers[ext](found, mode\u001b[39m=\u001b[39mmode,\n\u001b[1;32m    529\u001b[0m                               encoding\u001b[39m=\u001b[39mencoding, newline\u001b[39m=\u001b[39mnewline)\n\u001b[1;32m    530\u001b[0m \u001b[39melse\u001b[39;00m:\n\u001b[0;32m--> 531\u001b[0m     \u001b[39mraise\u001b[39;00m \u001b[39mIOError\u001b[39;00m(\u001b[39m\"\u001b[39m\u001b[39m%s\u001b[39;00m\u001b[39m not found.\u001b[39m\u001b[39m\"\u001b[39m \u001b[39m%\u001b[39m path)\n",
      "\u001b[0;31mOSError\u001b[0m: /jack/MDOT/Two-MDOT/train/two//airplane/airplane-1/groundtruth.txt not found."
     ]
    }
   ],
   "source": [
    "dataset_name = 'threemdot_test'\n",
    "\n",
    "trackers = []\n",
    "trackers.extend(trackerlist(name='threemdot', parameter_name='three_mdot_train', dataset_name=dataset_name,                  # baseline 49.00\n",
    "                            run_ids=None, display_name='threemdot_train'))\n",
    "# trackers.extend(trackerlist(name='ostrack', parameter_name='vitb_384_mae_ce_32x4_ep300', dataset_name=dataset_name,\n",
    "#                             run_ids=None, display_name='OSTrack384'))\n",
    "\n",
    "dataset = get_dataset(dataset_name)\n",
    "# plot_results(trackers, dataset, dataset_name, merge_results=True, plot_types=('success', 'prec'),\n",
    "#              skip_missing_seq=False, force_evaluation=True, plot_bin_gap=0.05, exclude_invalid_frames=False)\n",
    "print_results(trackers, dataset, dataset_name, merge_results=True, plot_types=('success', 'prec', 'norm_prec'))\n",
    "# print_results_per_video(trackers, dataset, dataset_name, merge_results=True, plot_types=('success', 'prec', 'norm_prec'),\n",
    "#                         per_video=True, force_evaluation=True)\n",
    "# print_per_sequence_results(trackers, dataset, dataset_name, merge_results=True, plot_types=('success', 'prec', 'norm_prec'))"
   ]
  }
 ],
 "metadata": {
  "kernelspec": {
   "display_name": "Python 3.8.13 ('ostrack')",
   "language": "python",
   "name": "python3"
  },
  "language_info": {
   "codemirror_mode": {
    "name": "ipython",
    "version": 3
   },
   "file_extension": ".py",
   "mimetype": "text/x-python",
   "name": "python",
   "nbconvert_exporter": "python",
   "pygments_lexer": "ipython3",
   "version": "3.8.13"
  },
  "vscode": {
   "interpreter": {
    "hash": "37df64539d63a16aea84ad1dd0cf148471d51f9c060de06fdfd7d2554d532df8"
   }
  }
 },
 "nbformat": 4,
 "nbformat_minor": 0
}
